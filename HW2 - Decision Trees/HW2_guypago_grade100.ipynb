{
 "cells": [
  {
   "cell_type": "markdown",
   "metadata": {
    "nbgrader": {
     "grade": false,
     "grade_id": "cell-6bd0516e7cb654f5",
     "locked": true,
     "schema_version": 1,
     "solution": false
    }
   },
   "source": [
    "# Exercise 2: Decision Trees\n",
    "\n",
    "In this assignment you will implement a Decision Tree algorithm as learned in class.\n",
    "\n",
    "## Read the following instructions carefully:\n",
    "\n",
    "1. This jupyter notebook contains all the step by step instructions needed for this exercise.\n",
    "1. Submission includes this notebook only with the exercise number and your ID as the filename. For example: `hw2_123456789_987654321.ipynb` if you submitted in pairs and `hw2_123456789.ipynb` if you submitted the exercise alone.\n",
    "1. Write **efficient vectorized** code whenever possible. Some calculations in this exercise take several minutes when implemented efficiently, and might take much longer otherwise. Unnecessary loops will result in point deduction.\n",
    "1. You are responsible for the correctness of your code and should add as many tests as you see fit. Tests will not be graded nor checked.\n",
    "1. Write your functions in this notebook only. **Do not create Python modules and import them**.\n",
    "1. You are allowed to use functions and methods from the [Python Standard Library](https://docs.python.org/3/library/) and [numpy](https://www.numpy.org/devdocs/reference/) only. **Do not import anything else.**\n",
    "1. Your code must run without errors. Make sure your `numpy` version is at least 1.15.4 and that you are using at least python 3.6. Changes of the configuration we provided are at your own risk. Any code that cannot run will not be graded.\n",
    "1. Write your own code. Cheating will not be tolerated.\n",
    "1. Answers to qualitative questions should be written in **markdown** cells (with $\\LaTeX$ support). Answers that will be written in commented code blocks will not be checked.\n",
    "\n",
    "## In this exercise you will perform the following:\n",
    "1. Practice OOP in python.\n",
    "2. Implement two impurity measures: Gini and Entropy.\n",
    "3. Construct a decision tree algorithm.\n",
    "4. Prune the tree to achieve better results.\n",
    "5. Visualize your results."
   ]
  },
  {
   "cell_type": "markdown",
   "metadata": {},
   "source": [
    "# I have read and understood the instructions: 034250043, 206260762"
   ]
  },
  {
   "cell_type": "code",
   "execution_count": 1,
   "metadata": {
    "nbgrader": {
     "grade": false,
     "grade_id": "cell-ed9fe7b1026e33cb",
     "locked": true,
     "schema_version": 1,
     "solution": false
    }
   },
   "outputs": [],
   "source": [
    "import numpy as np\n",
    "import pandas as pd\n",
    "import matplotlib.pyplot as plt\n",
    "# make matplotlib figures appear inline in the notebook\n",
    "%matplotlib inline\n",
    "plt.rcParams['figure.figsize'] = (10.0, 8.0) # set default size of plots\n",
    "plt.rcParams['image.interpolation'] = 'nearest'\n",
    "plt.rcParams['image.cmap'] = 'gray'\n",
    "\n",
    "# Ignore warnings\n",
    "import warnings\n",
    "warnings.filterwarnings('ignore')"
   ]
  },
  {
   "cell_type": "markdown",
   "metadata": {
    "nbgrader": {
     "grade": false,
     "grade_id": "cell-c6ac605270c2b091",
     "locked": true,
     "schema_version": 1,
     "solution": false
    }
   },
   "source": [
    "## Warmup - OOP in python\n",
    "\n",
    "Our desicion tree will be implemented using a dedicated python class. Python classes are very similar to classes in Java.\n",
    "\n",
    "\n",
    "You can use the following [site](https://jeffknupp.com/blog/2014/06/18/improve-your-python-python-classes-and-object-oriented-programming/) to learn about classes in python."
   ]
  },
  {
   "cell_type": "code",
   "execution_count": 2,
   "metadata": {},
   "outputs": [],
   "source": [
    "class Node(object):\n",
    "    def __init__(self, data):\n",
    "        self.data = data\n",
    "        self.children = []\n",
    "\n",
    "    def add_child(self, node):\n",
    "        self.children.append(node)"
   ]
  },
  {
   "cell_type": "code",
   "execution_count": 3,
   "metadata": {},
   "outputs": [
    {
     "data": {
      "text/plain": [
       "[<__main__.Node at 0x26fc441b0a0>, <__main__.Node at 0x26fc441b6a0>]"
      ]
     },
     "execution_count": 3,
     "metadata": {},
     "output_type": "execute_result"
    }
   ],
   "source": [
    "n = Node(5)\n",
    "p = Node(6)\n",
    "q = Node(7)\n",
    "n.add_child(p)\n",
    "n.add_child(q)\n",
    "n.children"
   ]
  },
  {
   "cell_type": "markdown",
   "metadata": {
    "nbgrader": {
     "grade": false,
     "grade_id": "cell-2f1ceb251c649b62",
     "locked": true,
     "schema_version": 1,
     "solution": false
    }
   },
   "source": [
    "## Data preprocessing\n",
    "\n",
    "For the following exercise, we will use a dataset containing mushroom data `agaricus-lepiota.csv`. \n",
    "\n",
    "This data set includes descriptions of hypothetical samples corresponding to 23 species of gilled mushrooms in the Agaricus and Lepiota Family. Each species is identified as definitely edible, definitely poisonous, or of unknown edibility and not recommended. This latter class was combined with the poisonous\n",
    "one (=there are only two classes **edible** and **poisonous**). \n",
    "    \n",
    "The dataset contains 8124 observations with 22 features:\n",
    "1. cap-shape: bell=b,conical=c,convex=x,flat=f,knobbed=k,sunken=s\n",
    "2. cap-surface: fibrous=f,grooves=g,scaly=y,smooth=s\n",
    "3. cap-color: brown=n,buff=b,cinnamon=c,gray=g,green=r,pink=p,purple=u,red=e,white=w,yellow=y\n",
    "4. bruises: bruises=t,no=f\n",
    "5. odor: almond=a,anise=l,creosote=c,fishy=y,foul=f, musty=m,none=n,pungent=p,spicy=s\n",
    "6. gill-attachment: attached=a,descending=d,free=f,notched=n\n",
    "7. gill-spacing: close=c,crowded=w,distant=d\n",
    "8. gill-size: broad=b,narrow=n\n",
    "9. gill-color: black=k,brown=n,buff=b,chocolate=h,gray=g,green=r,orange=o,pink=p,purple=u,red=e,white=w,yellow=y\n",
    "10. stalk-shape: enlarging=e,tapering=t\n",
    "11. stalk-root: bulbous=b,club=c,cup=u,equal=e,rhizomorphs=z,rooted=r\n",
    "12. stalk-surface-above-ring: fibrous=f,scaly=y,silky=k,smooth=s\n",
    "13. stalk-surface-below-ring: fibrous=f,scaly=y,silky=k,smooth=s\n",
    "14. stalk-color-above-ring: brown=n,buff=b,cinnamon=c,gray=g,orange=o,pink=p,red=e,white=w,yellow=y\n",
    "15. stalk-color-below-ring: brown=n,buff=b,cinnamon=c,gray=g,orange=o,pink=p,red=e,white=w,yellow=y\n",
    "16. veil-type: partial=p,universal=u\n",
    "17. veil-color: brown=n,orange=o,white=w,yellow=y\n",
    "18. ring-number: none=n,one=o,two=t\n",
    "19. ring-type: cobwebby=c,evanescent=e,flaring=f,large=l,none=n,pendant=p,sheathing=s,zone=z\n",
    "20. spore-print-color: black=k,brown=n,buff=b,chocolate=h,green=r,orange=o,purple=u,white=w,yellow=y\n",
    "21. population: abundant=a,clustered=c,numerous=n,scattered=s,several=v,solitary=y\n",
    "22. habitat: grasses=g,leaves=l,meadows=m,paths=p,urban=u,waste=w,woods=d\n",
    "\n",
    "First, we will read and explore the data using pandas and the `.read_csv` method. Pandas is an open source library providing high-performance, easy-to-use data structures and data analysis tools for the Python programming language."
   ]
  },
  {
   "cell_type": "code",
   "execution_count": 4,
   "metadata": {
    "nbgrader": {
     "grade": false,
     "grade_id": "cell-d79cb4542926ad3f",
     "locked": true,
     "schema_version": 1,
     "solution": false
    }
   },
   "outputs": [],
   "source": [
    "# load dataset\n",
    "data = pd.read_csv('agaricus-lepiota.csv')"
   ]
  },
  {
   "cell_type": "code",
   "execution_count": 5,
   "metadata": {},
   "outputs": [
    {
     "data": {
      "text/html": [
       "<div>\n",
       "<style scoped>\n",
       "    .dataframe tbody tr th:only-of-type {\n",
       "        vertical-align: middle;\n",
       "    }\n",
       "\n",
       "    .dataframe tbody tr th {\n",
       "        vertical-align: top;\n",
       "    }\n",
       "\n",
       "    .dataframe thead th {\n",
       "        text-align: right;\n",
       "    }\n",
       "</style>\n",
       "<table border=\"1\" class=\"dataframe\">\n",
       "  <thead>\n",
       "    <tr style=\"text-align: right;\">\n",
       "      <th></th>\n",
       "      <th>cap-shape</th>\n",
       "      <th>cap-surface</th>\n",
       "      <th>cap-color</th>\n",
       "      <th>bruises</th>\n",
       "      <th>odor</th>\n",
       "      <th>gill-attachment</th>\n",
       "      <th>gill-spacing</th>\n",
       "      <th>gill-size</th>\n",
       "      <th>gill-color</th>\n",
       "      <th>stalk-shape</th>\n",
       "      <th>...</th>\n",
       "      <th>stalk-color-above-ring</th>\n",
       "      <th>stalk-color-below-ring</th>\n",
       "      <th>veil-type</th>\n",
       "      <th>veil-color</th>\n",
       "      <th>ring-number</th>\n",
       "      <th>ring-type</th>\n",
       "      <th>spore-print-color</th>\n",
       "      <th>population</th>\n",
       "      <th>habitat</th>\n",
       "      <th>class</th>\n",
       "    </tr>\n",
       "  </thead>\n",
       "  <tbody>\n",
       "    <tr>\n",
       "      <th>0</th>\n",
       "      <td>x</td>\n",
       "      <td>s</td>\n",
       "      <td>n</td>\n",
       "      <td>t</td>\n",
       "      <td>p</td>\n",
       "      <td>f</td>\n",
       "      <td>c</td>\n",
       "      <td>n</td>\n",
       "      <td>k</td>\n",
       "      <td>e</td>\n",
       "      <td>...</td>\n",
       "      <td>w</td>\n",
       "      <td>w</td>\n",
       "      <td>p</td>\n",
       "      <td>w</td>\n",
       "      <td>o</td>\n",
       "      <td>p</td>\n",
       "      <td>k</td>\n",
       "      <td>s</td>\n",
       "      <td>u</td>\n",
       "      <td>p</td>\n",
       "    </tr>\n",
       "    <tr>\n",
       "      <th>1</th>\n",
       "      <td>x</td>\n",
       "      <td>s</td>\n",
       "      <td>y</td>\n",
       "      <td>t</td>\n",
       "      <td>a</td>\n",
       "      <td>f</td>\n",
       "      <td>c</td>\n",
       "      <td>b</td>\n",
       "      <td>k</td>\n",
       "      <td>e</td>\n",
       "      <td>...</td>\n",
       "      <td>w</td>\n",
       "      <td>w</td>\n",
       "      <td>p</td>\n",
       "      <td>w</td>\n",
       "      <td>o</td>\n",
       "      <td>p</td>\n",
       "      <td>n</td>\n",
       "      <td>n</td>\n",
       "      <td>g</td>\n",
       "      <td>e</td>\n",
       "    </tr>\n",
       "    <tr>\n",
       "      <th>2</th>\n",
       "      <td>b</td>\n",
       "      <td>s</td>\n",
       "      <td>w</td>\n",
       "      <td>t</td>\n",
       "      <td>l</td>\n",
       "      <td>f</td>\n",
       "      <td>c</td>\n",
       "      <td>b</td>\n",
       "      <td>n</td>\n",
       "      <td>e</td>\n",
       "      <td>...</td>\n",
       "      <td>w</td>\n",
       "      <td>w</td>\n",
       "      <td>p</td>\n",
       "      <td>w</td>\n",
       "      <td>o</td>\n",
       "      <td>p</td>\n",
       "      <td>n</td>\n",
       "      <td>n</td>\n",
       "      <td>m</td>\n",
       "      <td>e</td>\n",
       "    </tr>\n",
       "    <tr>\n",
       "      <th>3</th>\n",
       "      <td>x</td>\n",
       "      <td>y</td>\n",
       "      <td>w</td>\n",
       "      <td>t</td>\n",
       "      <td>p</td>\n",
       "      <td>f</td>\n",
       "      <td>c</td>\n",
       "      <td>n</td>\n",
       "      <td>n</td>\n",
       "      <td>e</td>\n",
       "      <td>...</td>\n",
       "      <td>w</td>\n",
       "      <td>w</td>\n",
       "      <td>p</td>\n",
       "      <td>w</td>\n",
       "      <td>o</td>\n",
       "      <td>p</td>\n",
       "      <td>k</td>\n",
       "      <td>s</td>\n",
       "      <td>u</td>\n",
       "      <td>p</td>\n",
       "    </tr>\n",
       "    <tr>\n",
       "      <th>4</th>\n",
       "      <td>x</td>\n",
       "      <td>s</td>\n",
       "      <td>g</td>\n",
       "      <td>f</td>\n",
       "      <td>n</td>\n",
       "      <td>f</td>\n",
       "      <td>w</td>\n",
       "      <td>b</td>\n",
       "      <td>k</td>\n",
       "      <td>t</td>\n",
       "      <td>...</td>\n",
       "      <td>w</td>\n",
       "      <td>w</td>\n",
       "      <td>p</td>\n",
       "      <td>w</td>\n",
       "      <td>o</td>\n",
       "      <td>e</td>\n",
       "      <td>n</td>\n",
       "      <td>a</td>\n",
       "      <td>g</td>\n",
       "      <td>e</td>\n",
       "    </tr>\n",
       "  </tbody>\n",
       "</table>\n",
       "<p>5 rows × 22 columns</p>\n",
       "</div>"
      ],
      "text/plain": [
       "  cap-shape cap-surface cap-color bruises odor gill-attachment gill-spacing  \\\n",
       "0         x           s         n       t    p               f            c   \n",
       "1         x           s         y       t    a               f            c   \n",
       "2         b           s         w       t    l               f            c   \n",
       "3         x           y         w       t    p               f            c   \n",
       "4         x           s         g       f    n               f            w   \n",
       "\n",
       "  gill-size gill-color stalk-shape  ... stalk-color-above-ring  \\\n",
       "0         n          k           e  ...                      w   \n",
       "1         b          k           e  ...                      w   \n",
       "2         b          n           e  ...                      w   \n",
       "3         n          n           e  ...                      w   \n",
       "4         b          k           t  ...                      w   \n",
       "\n",
       "  stalk-color-below-ring veil-type veil-color ring-number ring-type  \\\n",
       "0                      w         p          w           o         p   \n",
       "1                      w         p          w           o         p   \n",
       "2                      w         p          w           o         p   \n",
       "3                      w         p          w           o         p   \n",
       "4                      w         p          w           o         e   \n",
       "\n",
       "  spore-print-color population habitat class  \n",
       "0                 k          s       u     p  \n",
       "1                 n          n       g     e  \n",
       "2                 n          n       m     e  \n",
       "3                 k          s       u     p  \n",
       "4                 n          a       g     e  \n",
       "\n",
       "[5 rows x 22 columns]"
      ]
     },
     "execution_count": 5,
     "metadata": {},
     "output_type": "execute_result"
    }
   ],
   "source": [
    "data.head()"
   ]
  },
  {
   "cell_type": "markdown",
   "metadata": {},
   "source": [
    "One of the advantages of the Decision Tree algorithm is that almost no preprocessing is required. However, finding missing values is always required."
   ]
  },
  {
   "cell_type": "code",
   "execution_count": 6,
   "metadata": {},
   "outputs": [],
   "source": [
    "data.dropna(axis=1, inplace=True)"
   ]
  },
  {
   "cell_type": "markdown",
   "metadata": {},
   "source": [
    "We will split the dataset to `Training` and `Testing` datasets."
   ]
  },
  {
   "cell_type": "code",
   "execution_count": 7,
   "metadata": {},
   "outputs": [
    {
     "name": "stdout",
     "output_type": "stream",
     "text": [
      "Training dataset shape:  (6093, 22)\n",
      "Testing dataset shape:  (2031, 22)\n"
     ]
    }
   ],
   "source": [
    "from sklearn.model_selection import train_test_split\n",
    "# Making sure the last column will hold the labels\n",
    "X, y = data.drop('class', axis=1), data['class']\n",
    "X = np.column_stack([X,y])\n",
    "# split dataset using random_state to get the same split each time\n",
    "X_train, X_test = train_test_split(X, random_state=99)\n",
    "\n",
    "print(\"Training dataset shape: \", X_train.shape)\n",
    "print(\"Testing dataset shape: \", X_test.shape)"
   ]
  },
  {
   "cell_type": "code",
   "execution_count": 8,
   "metadata": {},
   "outputs": [
    {
     "data": {
      "text/plain": [
       "(8124,)"
      ]
     },
     "execution_count": 8,
     "metadata": {},
     "output_type": "execute_result"
    }
   ],
   "source": [
    "y.shape"
   ]
  },
  {
   "cell_type": "markdown",
   "metadata": {
    "nbgrader": {
     "grade": false,
     "grade_id": "cell-fd7b0191f3f1e897",
     "locked": true,
     "schema_version": 1,
     "solution": false
    }
   },
   "source": [
    "## Impurity Measures\n",
    "\n",
    "Impurity is a measure of how often a randomly chosen element from the set would be incorrectly labeled if it was randomly labeled according to the distribution of labels in the subset. Implement the functions `calc_gini` and `calc_entropy`. You are encouraged to test your implementation (10 points)."
   ]
  },
  {
   "cell_type": "code",
   "execution_count": 9,
   "metadata": {},
   "outputs": [],
   "source": [
    "def calc_gini(data):\n",
    "    \"\"\"\n",
    "    Calculate gini impurity measure of a dataset.\n",
    " \n",
    "    Input:\n",
    "    - data: any dataset where the last column holds the labels.\n",
    " \n",
    "    Returns the gini impurity.    \n",
    "    \"\"\"\n",
    "    gini = 0.0\n",
    "    _, counts = np.unique(data[:,-1], return_counts=True)\n",
    "    z= (counts / data.shape[0])**2\n",
    "    gini = 1 - z.sum()\n",
    "    return gini"
   ]
  },
  {
   "cell_type": "code",
   "execution_count": 10,
   "metadata": {},
   "outputs": [],
   "source": [
    "def calc_entropy(data):\n",
    "    \"\"\"\n",
    "    Calculate the entropy of a dataset.\n",
    "\n",
    "    Input:\n",
    "    - data: any dataset where the last column holds the labels.\n",
    "\n",
    "    Returns the entropy of the dataset.    \n",
    "    \"\"\"\n",
    "    entropy = 0.0\n",
    "    _, counts = np.unique(data[:,-1], return_counts=True)\n",
    "    z= counts /  data.shape[0]\n",
    "    entropy = -(z*np.log2(z)).sum()\n",
    "    return entropy"
   ]
  },
  {
   "cell_type": "code",
   "execution_count": 11,
   "metadata": {
    "scrolled": true
   },
   "outputs": [
    {
     "data": {
      "text/plain": [
       "(0.4995636322379775, 0.9993703627906085)"
      ]
     },
     "execution_count": 11,
     "metadata": {},
     "output_type": "execute_result"
    }
   ],
   "source": [
    "##### Your Tests Here #####\n",
    "(calc_gini(X), calc_entropy(X))"
   ]
  },
  {
   "cell_type": "markdown",
   "metadata": {},
   "source": [
    "## Goodness of Split\n",
    "\n",
    "Given a feature the Goodnees of Split measures the reduction in the impurity if we split the data according to the feature.\n",
    "$$\n",
    "\\Delta\\varphi(S, A) = \\varphi(S) - \\sum_{v\\in Values(A)} \\frac{|S_v|}{|S|}\\varphi(S_v)\n",
    "$$\n",
    "\n",
    "In our implementation the goodness_of_split function will return either the Goodness of Split or the Gain Ratio as learned in class. You'll control the return value with the `gain_ratio` parameter. If this parameter will set to False (the default value) it will return the regular Goodness of Split. If it will set to True it will return the Gain Ratio.\n",
    "$$\n",
    "GainRatio(S,A)=\\frac{InformationGain(S,A)}{SplitInformation(S,A)}\n",
    "$$\n",
    "Where:\n",
    "$$\n",
    "InformationGain(S,A)=Goodness\\ of\\ Split\\ calculated\\ with\\ Entropy\\ as\\ the\\ Impurity\\ function \\\\\n",
    "SplitInformation(S,A)=- \\sum_{a\\in A} \\frac{|S_a|}{|S|}\\log\\frac{|S_a|}{|S|}\n",
    "$$\n",
    "NOTE: you can add more parameters to the function and you can also add more returning variables (The given parameters and the given returning variable should not be touch). (10 Points)"
   ]
  },
  {
   "cell_type": "code",
   "execution_count": 12,
   "metadata": {},
   "outputs": [],
   "source": [
    "def goodness_of_split(data, feature, impurity_func, gain_ratio=False):\n",
    "    \"\"\"\n",
    "    Calculate the goodness of split of a dataset given a feature and impurity function.\n",
    "\n",
    "    Input:\n",
    "    - data: any dataset where the last column holds the labels.\n",
    "    - feature: the feature index.\n",
    "    - impurity func: a function that calculates the impurity.\n",
    "    - gain_ratio: goodness of split or gain ratio flag.\n",
    "    \n",
    "\n",
    "    Returns the goodness of split (or the Gain Ration).  \n",
    "    \"\"\"\n",
    "    goodness = impurity_func(data)\n",
    "    for value in  np.unique(data[:,feature]):\n",
    "        S_v = data[data[:,feature] == value]\n",
    "        goodness -= (S_v.shape[0]/data.shape[0])*impurity_func(S_v)\n",
    "    if gain_ratio:\n",
    "        goodness = goodness/calc_entropy(data[:,[0, feature]])\n",
    "    return goodness "
   ]
  },
  {
   "cell_type": "markdown",
   "metadata": {},
   "source": [
    "## Building a Decision Tree\n",
    "\n",
    "Use a Python class to construct the decision tree. Your class should support the following functionality:\n",
    "\n",
    "1. Initiating a node for a decision tree. You will need to use several class methods and class attributes and you are free to use them as you see fit. We recommend that every node will hold the feature and value used for the split and its children.\n",
    "2. Your code should support both Gini and Entropy as impurity measures. \n",
    "3. The provided data includes categorical data. In this exercise, when splitting a node create the number of children needed according to the attribute unique values.\n",
    "\n",
    "Complete the class `DecisionNode`. The structure of this class is entirely up to you. \n",
    "\n",
    "Complete the function `build_tree`. This function should get the training dataset and the impurity as inputs, initiate a root for the decision tree and construct the tree according to the procedure you learned in class. (30 points)"
   ]
  },
  {
   "cell_type": "code",
   "execution_count": 13,
   "metadata": {},
   "outputs": [],
   "source": [
    "class DecisionNode:\n",
    "    \"\"\"\n",
    "    This class will hold everything you require to construct a decision tree.\n",
    "    The structure of this class is up to you. However, you need to support basic \n",
    "    functionality as described above. It is highly recommended that you \n",
    "    first read and understand the entire exercise before diving into this class.\n",
    "    \"\"\"\n",
    "    def __init__(self, feature='leaf', parent = 'ROOT', parent_value =\"\"):\n",
    "        self.feature = feature # column index of criteria being tested\n",
    "        self.parent = parent\n",
    "        self.parent_value = parent_value\n",
    "        self.children = {}\n",
    "        self.label_dict = {}\n",
    "        self.pred = ''\n",
    "        \n",
    "    def add_child(self, node, feature):\n",
    "        self.children[feature] = node\n",
    "        \n",
    "    def add_labels(self, label_dict):\n",
    "        self.label_dict = label_dict\n",
    "        self.pred = max(label_dict, key=label_dict.get)"
   ]
  },
  {
   "cell_type": "code",
   "execution_count": 14,
   "metadata": {},
   "outputs": [],
   "source": [
    "def build_tree2(data, impurity, features_dict, gain_ratio=False, min_samples_split=1, max_depth=1000):\n",
    "    \"\"\"\n",
    "    Build a tree using the given impurity measure and training dataset. \n",
    "    You are required to fully grow the tree until all leaves are pure. \n",
    "\n",
    "    Input:\n",
    "    - data: the training dataset.\n",
    "    - impurity: the chosen impurity measure. Notice that you can send a function\n",
    "                as an argument in python.\n",
    "    - gain_ratio: goodness of split or gain ratio flag\n",
    "    - min_samples_split: the minimum number of samples required to split an internal node\n",
    "    - max_depth: the allowable depth of the tree\n",
    "\n",
    "    Output: the root node of the tree.\n",
    "    \"\"\"\n",
    "    root = DecisionNode()\n",
    "    unique, counts = np.unique(data[:,-1], return_counts=True)  \n",
    "    root.add_labels(dict(zip(unique, counts)))\n",
    "    if len(unique) == 1 or data.shape[0] < min_samples_split or max_depth == 0 or len(features_dict) == 0:\n",
    "        return root\n",
    "    # find the best feature to split for current node, create descendant nodes and add them to the queue\n",
    "    best_feature = find_best_feature_to_split(data, features_dict, impurity, gain_ratio)\n",
    "    root.feature = best_feature\n",
    "    features_dict.pop(best_feature)\n",
    "    for value in np.unique(data[:,best_feature]):\n",
    "        subset = data[data[:,best_feature]== value]\n",
    "        child = build_tree(subset, impurity, features_dict.copy(), gain_ratio, min_samples_split, max_depth-1)\n",
    "        child.parent = best_feature\n",
    "        child.parent_value = value\n",
    "        root.add_child(child, value)\n",
    "    return root"
   ]
  },
  {
   "cell_type": "code",
   "execution_count": 15,
   "metadata": {},
   "outputs": [],
   "source": [
    "def build_tree(data, impurity, gain_ratio=False, min_samples_split=1, max_depth=1000):\n",
    "    \"\"\"\n",
    "    Build a tree using the given impurity measure and training dataset. \n",
    "    You are required to fully grow the tree until all leaves are pure. \n",
    "\n",
    "    Input:\n",
    "    - data: the training dataset.\n",
    "    - impurity: the chosen impurity measure. Notice that you can send a function\n",
    "                as an argument in python.\n",
    "    - gain_ratio: goodness of split or gain ratio flag\n",
    "    - min_samples_split: the minimum number of samples required to split an internal node\n",
    "    - max_depth: the allowable depth of the tree\n",
    "\n",
    "    Output: the root node of the tree.\n",
    "    \"\"\"\n",
    "    root = DecisionNode()\n",
    "    unique, counts = np.unique(data[:,-1], return_counts=True)  \n",
    "    root.add_labels(dict(zip(unique, counts)))\n",
    "    if len(unique) == 1 or max_depth == 0:\n",
    "        return root\n",
    "    # find the best feature to split for current node, create descendant nodes and add them to the queue\n",
    "    best_feature = find_best_feature_to_split(data, impurity, gain_ratio)\n",
    "    root.feature = best_feature\n",
    "    for value in np.unique(data[:,best_feature]):\n",
    "        subset = data[data[:,best_feature]== value]\n",
    "        if subset.shape[0] < min_samples_split:\n",
    "            continue\n",
    "        child = build_tree(subset, impurity, gain_ratio, min_samples_split, max_depth-1)\n",
    "        child.parent = best_feature\n",
    "        child.parent_value = value\n",
    "        root.add_child(child, value)\n",
    "    return root"
   ]
  },
  {
   "cell_type": "code",
   "execution_count": 16,
   "metadata": {},
   "outputs": [],
   "source": [
    "def find_best_feature_to_split(data, impurity, gain_ratio): \n",
    "    best_goodness= -10000\n",
    "    for feature in range(data.shape[1]-1):\n",
    "        if len(np.unique(data[:,feature])) == 1:\n",
    "            continue\n",
    "        goodness = goodness_of_split(data, feature, impurity, gain_ratio)\n",
    "        if goodness > best_goodness:\n",
    "            best_goodness = goodness\n",
    "            best_feature = feature\n",
    "    return best_feature"
   ]
  },
  {
   "cell_type": "code",
   "execution_count": 17,
   "metadata": {},
   "outputs": [],
   "source": [
    "# python supports passing a function as an argument to another function.\n",
    "tree_gini = build_tree(data=X_train, impurity=calc_gini) # gini and goodness of split\n",
    "tree_entropy = build_tree(data=X_train, impurity=calc_entropy) # entropy and goodness of split\n",
    "tree_entropy_gain_ratio = build_tree(data=X_train, impurity=calc_entropy,  gain_ratio=True) # entropy and gain ratio"
   ]
  },
  {
   "cell_type": "markdown",
   "metadata": {},
   "source": [
    "## Tree evaluation\n",
    "\n",
    "Complete the functions `predict` and `calc_accuracy`. (10 points)"
   ]
  },
  {
   "cell_type": "code",
   "execution_count": 18,
   "metadata": {},
   "outputs": [],
   "source": [
    "def predict(node, instance):\n",
    "    \"\"\"\n",
    "    Predict a given instance using the decision tree\n",
    " \n",
    "    Input:\n",
    "    - root: the root of the decision tree.\n",
    "    - instance: an row vector from the dataset. Note that the last element \n",
    "                of this vector is the label of the instance.\n",
    " \n",
    "    Output: the prediction of the instance.\n",
    "    \"\"\"\n",
    "    \n",
    "\n",
    "    while instance[node.feature] in node.children.keys():\n",
    "        node = node.children[instance[node.feature]]\n",
    "        if node.feature == 'leaf':\n",
    "            return node.pred\n",
    "    return node.pred"
   ]
  },
  {
   "cell_type": "code",
   "execution_count": 19,
   "metadata": {},
   "outputs": [],
   "source": [
    "def calc_accuracy(node, dataset):\n",
    "    \"\"\"\n",
    "    Predict a given dataset using the decision tree\n",
    " \n",
    "    Input:\n",
    "    - node: a node in the decision tree.\n",
    "    - dataset: the dataset on which the accuracy is evaluated\n",
    " \n",
    "    Output: the accuracy of the decision tree on the given dataset (%).\n",
    "    \"\"\"\n",
    "    accuracy = 0\n",
    "    true_labels = 0\n",
    "    for instance in dataset:\n",
    "        true_labels += int(predict(node, instance) == instance[-1])\n",
    "    accuracy = true_labels / len(dataset)\n",
    "    return accuracy*100"
   ]
  },
  {
   "cell_type": "markdown",
   "metadata": {},
   "source": [
    "After building the three trees using the training set, you should calculate the accuracy on the test set. For each tree print the training and test accuracy. Select the tree that gave you the best test accuracy. For the rest of the exercise, use that tree (when you asked to build another tree use the same impurity function and same gain_ratio flag). "
   ]
  },
  {
   "cell_type": "code",
   "execution_count": 20,
   "metadata": {},
   "outputs": [
    {
     "name": "stdout",
     "output_type": "stream",
     "text": [
      "*****Gini tree accuracy*****\n",
      "Train: 100.0\n",
      "Test: 77.40029542097489\n",
      "\n",
      "*****Entropy tree accuracy*****\n",
      "Train: 100.0\n",
      "Test: 77.10487444608567\n",
      "\n",
      "*****Entropy tree with gain_ratio accuracy*****\n",
      "Train: 100.0\n",
      "Test: 78.48350566223536\n"
     ]
    }
   ],
   "source": [
    "print('*****Gini tree accuracy*****')\n",
    "print(f\"Train: {calc_accuracy(tree_gini, X_train)}\")\n",
    "print(f\"Test: {calc_accuracy(tree_gini, X_test)}\")\n",
    "print()\n",
    "print('*****Entropy tree accuracy*****')\n",
    "print(f\"Train: {calc_accuracy(tree_entropy, X_train)}\")\n",
    "print(f\"Test: {calc_accuracy(tree_entropy, X_test)}\")\n",
    "print()\n",
    "print('*****Entropy tree with gain_ratio accuracy*****')\n",
    "print(f\"Train: {calc_accuracy(tree_entropy_gain_ratio, X_train)}\")\n",
    "print(f\"Test: {calc_accuracy(tree_entropy_gain_ratio, X_test)}\")"
   ]
  },
  {
   "cell_type": "markdown",
   "metadata": {},
   "source": [
    "## Depth pruning\n",
    "\n",
    "(15 points)\n",
    "\n",
    "Consider the following max_depth values: [1, 2, 3, 4, 5, 6, 7, 8]. For each value, construct a tree and prune it according to the max_depth value = don't let the tree to grow beyond this depth. Next, calculate the training and testing accuracy.<br>\n",
    "On a single plot, draw the training and testing accuracy as a function of the max_depth. Mark the best result on the graph with red circle."
   ]
  },
  {
   "cell_type": "code",
   "execution_count": 21,
   "metadata": {},
   "outputs": [],
   "source": [
    "depth_values = [1, 2, 3, 4, 5, 6, 7, 8]\n",
    "trees = [build_tree(X_train, calc_entropy, max_depth=depth, gain_ratio=True) for depth in depth_values]\n",
    "depth_acc_test = [calc_accuracy(tree, X_test) for tree in trees]\n",
    "depth_acc_train = [calc_accuracy(tree, X_train) for tree in trees]"
   ]
  },
  {
   "cell_type": "code",
   "execution_count": 22,
   "metadata": {},
   "outputs": [
    {
     "data": {
      "image/png": "[encoded data removed]",
      "text/plain": [
       "<Figure size 720x576 with 1 Axes>"
      ]
     },
     "metadata": {
      "needs_background": "light"
     },
     "output_type": "display_data"
    }
   ],
   "source": [
    "plt.plot(depth_values, depth_acc_test, label=\"Test\", color='r')\n",
    "plt.plot(depth_values, depth_acc_train, label='Train', color='g')\n",
    "plt.plot(depth_values[np.argmax(depth_acc_test)], max(depth_acc_test), 'ro', ms=14, markeredgecolor='g')\n",
    "plt.xlabel('Maximum Depth'), plt.ylabel('Accuracy (%)')\n",
    "plt.suptitle('Decision Tree Accuracy as a function of Maximum Depth', size=16, y=0.96)\n",
    "plt.title('Train VS Test'), plt.legend();"
   ]
  },
  {
   "cell_type": "markdown",
   "metadata": {},
   "source": [
    "## Min Samples Split\n",
    "\n",
    "(15 points)\n",
    "\n",
    "Consider the following min_samples_split values: [1, 5, 10, 20, 50]. For each value, construct a tree and prune it according to the min_samples_split value = don't split a node if the number of sample in it is less or equal to the min_samples_split value. Next, calculate the training and testing accuracy.<br>\n",
    "On a single plot, draw the training and testing accuracy as a function of the min_samples_split. Mark the best result on the graph with red circle. (make sure that the x-axis ticks represent the values of min_samples_split)"
   ]
  },
  {
   "cell_type": "code",
   "execution_count": 23,
   "metadata": {},
   "outputs": [],
   "source": [
    "split_values = [1, 5, 10, 20, 50]\n",
    "trees = [build_tree(X_train, calc_entropy, min_samples_split=split, gain_ratio=True) for split in split_values]\n",
    "split_acc_test = [calc_accuracy(tree, X_test) for tree in trees]\n",
    "split_acc_train = [calc_accuracy(tree, X_train) for tree in trees]"
   ]
  },
  {
   "cell_type": "code",
   "execution_count": 24,
   "metadata": {},
   "outputs": [
    {
     "data": {
      "image/png": "[encoded data removed]",
      "text/plain": [
       "<Figure size 720x576 with 1 Axes>"
      ]
     },
     "metadata": {
      "needs_background": "light"
     },
     "output_type": "display_data"
    }
   ],
   "source": [
    "plt.plot(split_values, split_acc_test, label=\"Test\", color='r')\n",
    "plt.plot(split_values, split_acc_train, label='Train', color='g')\n",
    "plt.plot(split_values[np.argmax(split_acc_test)], max(split_acc_test), 'ro', ms=14, markeredgecolor='g')\n",
    "plt.xlabel('Mininum Split'), plt.ylabel('Accuracy (%)')\n",
    "plt.suptitle('Decision Tree Accuracy as a function of Minimum Split', size=16, y=0.96)\n",
    "plt.title('Train VS Test'), plt.legend();"
   ]
  },
  {
   "cell_type": "markdown",
   "metadata": {},
   "source": [
    "Build the best 2 trees:\n",
    "1. tree_max_depth - the best tree according to max_depth pruning\n",
    "1. tree_min_samples_split - the best tree according to min_samples_split pruning"
   ]
  },
  {
   "cell_type": "code",
   "execution_count": 25,
   "metadata": {},
   "outputs": [],
   "source": [
    "tree_min_samples_split = build_tree(X_train, calc_entropy, True, min_samples_split=split_values[np.argmax(split_acc_test)])\n",
    "tree_max_depth = build_tree(X_train, calc_entropy, True, max_depth=depth_values[np.argmax(depth_acc_test)])"
   ]
  },
  {
   "cell_type": "markdown",
   "metadata": {},
   "source": [
    "## Number of Nodes\n",
    "\n",
    "(5 points)\n",
    "\n",
    "Complete the function counts_nodes and print the number of nodes in each tree and print the number of nodes of the two trees above"
   ]
  },
  {
   "cell_type": "code",
   "execution_count": 26,
   "metadata": {},
   "outputs": [],
   "source": [
    "def count_nodes(node):\n",
    "    \"\"\"\n",
    "    Count the number of node in a given tree\n",
    " \n",
    "    Input:\n",
    "    - node: a node in the decision tree.\n",
    " \n",
    "    Output: the number of node in the tree.\n",
    "    \"\"\"\n",
    "    if len(node.children) == 0:\n",
    "            return 1\n",
    "    return 1 + sum([count_nodes(node.children[val]) for val in node.children])\n",
    "    "
   ]
  },
  {
   "cell_type": "code",
   "execution_count": 27,
   "metadata": {},
   "outputs": [
    {
     "name": "stdout",
     "output_type": "stream",
     "text": [
      "\u001b[94mtree_max_depth # of nodes: 205\n",
      "\u001b[91mtree_min_samples_split # of nodes: 314\n"
     ]
    }
   ],
   "source": [
    "print(f\"\\033[94mtree_max_depth # of nodes: {count_nodes(tree_max_depth)}\")\n",
    "print(f\"\\033[91mtree_min_samples_split # of nodes: {count_nodes(tree_min_samples_split)}\")\n"
   ]
  },
  {
   "cell_type": "markdown",
   "metadata": {},
   "source": [
    "## Print the tree\n",
    "\n",
    "Complete the function `print_tree`. Your tree should be visualized clearly. You can use the following example as a reference:\n",
    "```\n",
    "[ROOT, feature=X0],\n",
    "  [X0=a, feature=X2]\n",
    "    [X2=c, leaf]: [{1.0: 10}]\n",
    "    [X2=d, leaf]: [{0.0: 10}]\n",
    "  [X0=y, feature=X5], \n",
    "    [X5=a, leaf]: [{1.0: 5}]\n",
    "    [X5=s, leaf]: [{0.0: 10}]\n",
    "  [X0=e, leaf]: [{0.0: 25, 1.0: 50}]\n",
    "```\n",
    "In each brackets:\n",
    "* The first argument is the parent feature with the value that led to current node\n",
    "* The second argument is the selected feature of the current node\n",
    "* If the current node is a leaf, you need to print also the labels and their counts\n",
    "\n",
    "(5 points)"
   ]
  },
  {
   "cell_type": "code",
   "execution_count": 28,
   "metadata": {},
   "outputs": [],
   "source": [
    "features_dict = dict(zip(np.arange(data.columns.drop('class').size), data.columns.drop('class')))"
   ]
  },
  {
   "cell_type": "code",
   "execution_count": 29,
   "metadata": {},
   "outputs": [],
   "source": [
    "# you can change the function signeture\n",
    "def print_tree(node, depth=0):\n",
    "    if node == None:\n",
    "        return \n",
    "    if node.parent == 'ROOT':\n",
    "         print(depth*\" \"+ f\"[{node.parent}, feature={features_dict[node.feature]}],\")\n",
    "    elif node.feature == 'leaf':\n",
    "        print(depth*\" \"+ f\"[{features_dict[node.parent]}={node.parent_value}, leaf]: {node.label_dict}]\")\n",
    "    else:\n",
    "        print(depth*\" \"+ f\"[{features_dict[node.parent]}={node.parent_value}, feature={features_dict[node.feature]}],\")\n",
    "    depth +=2\n",
    "    for child in node.children.values():\n",
    "        print_tree(child, depth)"
   ]
  },
  {
   "cell_type": "markdown",
   "metadata": {},
   "source": [
    "print the tree with the best test accuracy and with less than 50 nodes (from the two pruning methods)"
   ]
  },
  {
   "cell_type": "markdown",
   "metadata": {},
   "source": [
    "We iterate through all the possible min_split and max_depth values to find the best test accuracy tree with less then 50 nodes.\n",
    "\n",
    "Create all $8\\cdot 5 = 40$ combinations:"
   ]
  },
  {
   "cell_type": "code",
   "execution_count": 30,
   "metadata": {},
   "outputs": [],
   "source": [
    "trees = {}\n",
    "for max_depth in [1, 2, 3, 4, 5, 6, 7, 8]:\n",
    "    for min_split in [1, 5, 10, 20, 50]:\n",
    "        trees[f'depth={max_depth}, split={min_split}'] = build_tree(X_train, calc_entropy, True, min_split, max_depth)"
   ]
  },
  {
   "cell_type": "markdown",
   "metadata": {},
   "source": [
    "Filter and keep only trees with less than 50 nodes. "
   ]
  },
  {
   "cell_type": "code",
   "execution_count": 31,
   "metadata": {},
   "outputs": [
    {
     "data": {
      "text/plain": [
       "{'depth=1, split=1': 88.52781880846874,\n",
       " 'depth=1, split=5': 88.52781880846874,\n",
       " 'depth=1, split=10': 88.52781880846874,\n",
       " 'depth=1, split=20': 88.52781880846874,\n",
       " 'depth=1, split=50': 88.28163466272771,\n",
       " 'depth=2, split=1': 88.52781880846874,\n",
       " 'depth=2, split=5': 88.52781880846874,\n",
       " 'depth=2, split=10': 88.52781880846874,\n",
       " 'depth=2, split=20': 88.52781880846874,\n",
       " 'depth=2, split=50': 88.28163466272771,\n",
       " 'depth=3, split=50': 89.06942392909897}"
      ]
     },
     "execution_count": 31,
     "metadata": {},
     "output_type": "execute_result"
    }
   ],
   "source": [
    "best = {setting:calc_accuracy(trees[setting], X_test) for setting in trees if count_nodes(trees[setting]) <= 50}\n",
    "best"
   ]
  },
  {
   "cell_type": "code",
   "execution_count": 32,
   "metadata": {},
   "outputs": [
    {
     "data": {
      "text/plain": [
       "'depth=3, split=50'"
      ]
     },
     "execution_count": 32,
     "metadata": {},
     "output_type": "execute_result"
    }
   ],
   "source": [
    "max(best, key=best.get)"
   ]
  },
  {
   "cell_type": "markdown",
   "metadata": {},
   "source": [
    "We have found that the tree with the best test accuracy with less than 50 nodes has a combination of max_depth = 3 and min_sample_split = 50 as hyper parameters."
   ]
  },
  {
   "cell_type": "code",
   "execution_count": 33,
   "metadata": {},
   "outputs": [
    {
     "name": "stdout",
     "output_type": "stream",
     "text": [
      "[ROOT, feature=odor],\n",
      "  [odor=a, feature=cap-color],\n",
      "    [cap-color=w, feature=gill-spacing],\n",
      "      [gill-spacing=c, leaf]: {'e': 86, 'p': 7}]\n",
      "    [cap-color=y, feature=gill-spacing],\n",
      "      [gill-spacing=c, leaf]: {'e': 121, 'p': 15}]\n",
      "  [odor=c, feature=gill-spacing],\n",
      "    [gill-spacing=c, feature=population],\n",
      "    [gill-spacing=w, feature=cap-color],\n",
      "  [odor=f, feature=stalk-surface-above-ring],\n",
      "    [stalk-surface-above-ring=f, feature=cap-color],\n",
      "    [stalk-surface-above-ring=k, feature=stalk-surface-below-ring],\n",
      "      [stalk-surface-below-ring=k, leaf]: {'e': 118, 'p': 951}]\n",
      "      [stalk-surface-below-ring=s, leaf]: {'e': 16, 'p': 86}]\n",
      "    [stalk-surface-above-ring=s, feature=population],\n",
      "      [population=s, leaf]: {'e': 2, 'p': 55}]\n",
      "      [population=v, leaf]: {'e': 20, 'p': 255}]\n",
      "  [odor=l, feature=cap-surface],\n",
      "    [cap-surface=s, feature=cap-color],\n",
      "      [cap-color=w, leaf]: {'e': 50, 'p': 11}]\n",
      "    [cap-surface=y, feature=habitat],\n",
      "      [habitat=g, leaf]: {'e': 80, 'p': 7}]\n",
      "  [odor=n, feature=gill-size],\n",
      "    [gill-size=b, feature=spore-print-color],\n",
      "      [spore-print-color=k, leaf]: {'e': 843, 'p': 93}]\n",
      "      [spore-print-color=n, leaf]: {'e': 882, 'p': 105}]\n",
      "      [spore-print-color=r, leaf]: {'e': 6, 'p': 46}]\n",
      "      [spore-print-color=w, leaf]: {'e': 369, 'p': 33}]\n",
      "    [gill-size=n, feature=bruises],\n",
      "      [bruises=f, leaf]: {'e': 135, 'p': 50}]\n",
      "  [odor=p, feature=cap-shape],\n",
      "    [cap-shape=f, feature=spore-print-color],\n",
      "    [cap-shape=x, feature=cap-surface],\n",
      "  [odor=s, feature=stalk-color-below-ring],\n",
      "    [stalk-color-below-ring=p, feature=stalk-surface-below-ring],\n",
      "      [stalk-surface-below-ring=k, leaf]: {'e': 8, 'p': 96}]\n",
      "      [stalk-surface-below-ring=s, leaf]: {'e': 4, 'p': 94}]\n",
      "    [stalk-color-below-ring=w, feature=stalk-color-above-ring],\n",
      "      [stalk-color-above-ring=p, leaf]: {'e': 18, 'p': 88}]\n",
      "      [stalk-color-above-ring=w, leaf]: {'e': 8, 'p': 102}]\n",
      "  [odor=y, feature=cap-surface],\n",
      "    [cap-surface=s, feature=cap-color],\n",
      "      [cap-color=e, leaf]: {'e': 12, 'p': 93}]\n",
      "      [cap-color=n, leaf]: {'e': 6, 'p': 101}]\n",
      "    [cap-surface=y, feature=stalk-color-above-ring],\n",
      "      [stalk-color-above-ring=p, leaf]: {'e': 12, 'p': 91}]\n",
      "      [stalk-color-above-ring=w, leaf]: {'e': 19, 'p': 97}]\n"
     ]
    }
   ],
   "source": [
    "print_tree(trees[max(best, key=best.get)])"
   ]
  }
 ],
 "metadata": {
  "celltoolbar": "Create Assignment",
  "kernelspec": {
   "display_name": "Python 3 (ipykernel)",
   "language": "python",
   "name": "python3"
  },
  "language_info": {
   "codemirror_mode": {
    "name": "ipython",
    "version": 3
   },
   "file_extension": ".py",
   "mimetype": "text/x-python",
   "name": "python",
   "nbconvert_exporter": "python",
   "pygments_lexer": "ipython3",
   "version": "3.10.4"
  }
 },
 "nbformat": 4,
 "nbformat_minor": 4
}
